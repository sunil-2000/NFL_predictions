{
 "cells": [
  {
   "cell_type": "markdown",
   "metadata": {},
   "source": [
    "### Classification Problem:\n",
    "  * Given stats / weather data we can get before a game happens, predict whether home team will win or not\n"
   ]
  },
  {
   "cell_type": "code",
   "execution_count": 2,
   "metadata": {},
   "outputs": [],
   "source": [
    "from feature_eng import Data\n",
    "data_obj = Data('./weather_game_elo.csv')"
   ]
  },
  {
   "cell_type": "code",
   "execution_count": 3,
   "metadata": {},
   "outputs": [],
   "source": [
    "# logistic regression\n",
    "lr = data_obj.lr()"
   ]
  },
  {
   "cell_type": "code",
   "execution_count": 4,
   "metadata": {},
   "outputs": [
    {
     "name": "stdout",
     "output_type": "stream",
     "text": [
      "accuracy: 0.6716826265389877\n"
     ]
    },
    {
     "data": {
      "text/plain": [
       "0.6716826265389877"
      ]
     },
     "execution_count": 4,
     "metadata": {},
     "output_type": "execute_result"
    }
   ],
   "source": [
    "data_obj.lr_evaluate_test(lr)"
   ]
  },
  {
   "cell_type": "code",
   "execution_count": 5,
   "metadata": {},
   "outputs": [
    {
     "name": "stdout",
     "output_type": "stream",
     "text": [
      "2013-12-08: TB vs. BUF\n",
      "lr model predicts TB will win\n",
      "with probability 0.5000749090436841\n",
      "actual game outcome: TB won\n",
      "actual score: TB: 27.0 BUF: 6.0\n"
     ]
    }
   ],
   "source": [
    "data_obj.lr_single_prediction(lr)"
   ]
  },
  {
   "cell_type": "code",
   "execution_count": 6,
   "metadata": {},
   "outputs": [
    {
     "data": {
      "text/plain": [
       "2921"
      ]
     },
     "execution_count": 6,
     "metadata": {},
     "output_type": "execute_result"
    }
   ],
   "source": [
    "len(data_obj.home_teams)"
   ]
  },
  {
   "cell_type": "code",
   "execution_count": 7,
   "metadata": {},
   "outputs": [],
   "source": [
    "data_obj_playoff_enc = Data('./weather_game_elo_playoff_encoded.csv', playoff_encoded=True)"
   ]
  },
  {
   "cell_type": "code",
   "execution_count": 8,
   "metadata": {},
   "outputs": [
    {
     "name": "stdout",
     "output_type": "stream",
     "text": [
      "accuracy: 0.6716826265389877\n"
     ]
    },
    {
     "data": {
      "text/plain": [
       "0.6716826265389877"
      ]
     },
     "execution_count": 8,
     "metadata": {},
     "output_type": "execute_result"
    }
   ],
   "source": [
    "lr_encoded = data_obj_playoff_enc.lr()\n",
    "data_obj_playoff_enc.lr_evaluate_test(lr_encoded)"
   ]
  },
  {
   "cell_type": "code",
   "execution_count": 9,
   "metadata": {},
   "outputs": [
    {
     "name": "stdout",
     "output_type": "stream",
     "text": [
      "accuracy: 0.5926940639269407\n"
     ]
    },
    {
     "data": {
      "text/plain": [
       "0.5926940639269407"
      ]
     },
     "execution_count": 9,
     "metadata": {},
     "output_type": "execute_result"
    }
   ],
   "source": [
    "# training accuracy for the encoded logistic regression\n",
    "data_obj_playoff_enc.evaluate_train(lr_encoded)"
   ]
  },
  {
   "cell_type": "code",
   "execution_count": null,
   "metadata": {},
   "outputs": [],
   "source": [
    "# neural network\n",
    "nn = data_obj.neural_net()\n",
    "data_obj.nn_evaluate_test(nn)"
   ]
  }
 ],
 "metadata": {
  "kernelspec": {
   "display_name": "Python 3",
   "language": "python",
   "name": "python3"
  },
  "language_info": {
   "codemirror_mode": {
    "name": "ipython",
    "version": 3
   },
   "file_extension": ".py",
   "mimetype": "text/x-python",
   "name": "python",
   "nbconvert_exporter": "python",
   "pygments_lexer": "ipython3",
   "version": "3.8.5"
  },
  "vscode": {
   "interpreter": {
    "hash": "19b71fa5802f5f6332f61099b246e673a5da3847c04355e9e361762cd7c72ab4"
   }
  }
 },
 "nbformat": 4,
 "nbformat_minor": 2
}
