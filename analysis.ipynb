{
 "cells": [
  {
   "cell_type": "markdown",
   "metadata": {},
   "source": [
    "### Classification Problem:\n",
    "  * Given stats / weather data we can get before a game happens, predict whether home team will win or not\n"
   ]
  },
  {
   "cell_type": "code",
   "execution_count": 1,
   "metadata": {},
   "outputs": [],
   "source": [
    "from data import Data\n",
    "data_obj = Data('./weather_game_elo.csv')"
   ]
  },
  {
   "cell_type": "code",
   "execution_count": 13,
   "metadata": {},
   "outputs": [
    {
     "name": "stderr",
     "output_type": "stream",
     "text": [
      "/Users/sunil/opt/anaconda3/envs/research/lib/python3.8/site-packages/sklearn/linear_model/_logistic.py:814: ConvergenceWarning: lbfgs failed to converge (status=1):\n",
      "STOP: TOTAL NO. of ITERATIONS REACHED LIMIT.\n",
      "\n",
      "Increase the number of iterations (max_iter) or scale the data as shown in:\n",
      "    https://scikit-learn.org/stable/modules/preprocessing.html\n",
      "Please also refer to the documentation for alternative solver options:\n",
      "    https://scikit-learn.org/stable/modules/linear_model.html#logistic-regression\n",
      "  n_iter_i = _check_optimize_result(\n"
     ]
    }
   ],
   "source": [
    "# logistic regression\n",
    "lr = data_obj.lr()"
   ]
  },
  {
   "cell_type": "code",
   "execution_count": 14,
   "metadata": {},
   "outputs": [
    {
     "name": "stdout",
     "output_type": "stream",
     "text": [
      "accuracy: 0.667578659370725\n"
     ]
    },
    {
     "data": {
      "text/plain": [
       "0.667578659370725"
      ]
     },
     "execution_count": 14,
     "metadata": {},
     "output_type": "execute_result"
    }
   ],
   "source": [
    "data_obj.evaluate_test(lr)"
   ]
  },
  {
   "cell_type": "code",
   "execution_count": 16,
   "metadata": {},
   "outputs": [
    {
     "name": "stdout",
     "output_type": "stream",
     "text": [
      "2012-11-18: ATL vs. ARI\n",
      "lr model predicts ATL will win\n",
      "with probability 0.5000061353163072\n",
      "actual game outcome: ATL won\n",
      "actual score: ATL: 23.0 ARI: 19.0\n"
     ]
    }
   ],
   "source": [
    "data_obj.single_prediction(lr)"
   ]
  },
  {
   "cell_type": "code",
   "execution_count": 5,
   "metadata": {},
   "outputs": [
    {
     "data": {
      "text/plain": [
       "2921"
      ]
     },
     "execution_count": 5,
     "metadata": {},
     "output_type": "execute_result"
    }
   ],
   "source": [
    "len(data_obj.home_teams)"
   ]
  },
  {
   "cell_type": "code",
   "execution_count": 6,
   "metadata": {},
   "outputs": [],
   "source": [
    "data_obj_playoff_enc = Data('./weather_game_elo_playoff_encoded.csv', playoff_encoded=True)"
   ]
  },
  {
   "cell_type": "code",
   "execution_count": 13,
   "metadata": {},
   "outputs": [
    {
     "name": "stdout",
     "output_type": "stream",
     "text": [
      "accuracy: 0.6662106703146374\n"
     ]
    },
    {
     "data": {
      "text/plain": [
       "0.6662106703146374"
      ]
     },
     "execution_count": 13,
     "metadata": {},
     "output_type": "execute_result"
    }
   ],
   "source": [
    "lr_encoded = data_obj_playoff_enc.lr()\n",
    "data_obj_playoff_enc.evaluate_test(lr_encoded)"
   ]
  },
  {
   "cell_type": "code",
   "execution_count": null,
   "metadata": {},
   "outputs": [],
   "source": [
    "# training accuracy for the encoded logistic regression\n",
    "data_obj_playoff_enc.evaluate_train(lr_encoded)"
   ]
  },
  {
   "cell_type": "markdown",
   "metadata": {},
   "source": [
    "### Accuracy Analysis"
   ]
  },
  {
   "cell_type": "code",
   "execution_count": 1,
   "metadata": {},
   "outputs": [
    {
     "name": "stdout",
     "output_type": "stream",
     "text": [
      "LogisticRegression\n",
      "RandomForestClassifier\n",
      "MLPClassifier\n"
     ]
    }
   ],
   "source": [
    "# logistic regression\n",
    "from feature_eng import Data\n",
    "data_obj = Data('./weather_game_elo.csv')\n",
    "lr = data_obj.lr(normalize=True)\n",
    "rf = data_obj.rf()\n",
    "nn = data_obj.neural_net()\n",
    "res = data_obj.kfold_validation([lr, rf, nn])\n"
   ]
  },
  {
   "cell_type": "code",
   "execution_count": 2,
   "metadata": {},
   "outputs": [
    {
     "data": {
      "image/png": "[encoded data removed]",
      "text/plain": [
       "<Figure size 1008x504 with 1 Axes>"
      ]
     },
     "metadata": {
      "needs_background": "light"
     },
     "output_type": "display_data"
    }
   ],
   "source": [
    "import matplotlib.pyplot as plt\n",
    "import numpy as np\n",
    "import seaborn as sns\n",
    "\n",
    "def graph_accuracies(models, to_pdf=False):\n",
    "  fig, ax = plt.subplots(figsize=(14, 7))\n",
    "  ax.set_title('Comparing Accuracies of Models (Stratified KFold Cross Validation)')\n",
    "  ax.set_xlabel('Split Number')\n",
    "  ax.set_ylabel('Accuracy')\n",
    "  splits = len(list(models.items())[0][1])\n",
    "  palette = sns.color_palette('deep', len(list(models.items())[0][0]))\n",
    "  \n",
    "  for j, model_desc in enumerate(models.items()):\n",
    "    name, model_acc = model_desc\n",
    "    color = palette[j]\n",
    "    # loop through each split\n",
    "    for i in range(splits):\n",
    "      ax.scatter(i, model_acc[i], color=color)\n",
    "    mean_acc = np.array(model_acc).mean()\n",
    "    ax.plot([i for i in range(splits)], [mean_acc for _ in range(splits)], label=f'{name} mean accuracy', color=color)\n",
    "  ax.legend()\n",
    "  if to_pdf:\n",
    "    plt.savefig(\n",
    "              \"accuracy_graph.pdf\", format=\"pdf\", bbox_inches=\"tight\", dpi=200\n",
    "          )\n",
    "  plt.show()\n",
    "\n",
    "graph_accuracies(res)\n"
   ]
  },
  {
   "cell_type": "code",
   "execution_count": 3,
   "metadata": {},
   "outputs": [],
   "source": [
    "pca = data_obj.pca()"
   ]
  },
  {
   "cell_type": "code",
   "execution_count": 39,
   "metadata": {},
   "outputs": [
    {
     "data": {
      "image/png": "[encoded data removed]",
      "text/plain": [
       "<Figure size 1008x504 with 1 Axes>"
      ]
     },
     "metadata": {
      "needs_background": "light"
     },
     "output_type": "display_data"
    }
   ],
   "source": [
    "fig, ax = plt.subplots(figsize=(14, 7))\n",
    "ax.plot(np.cumsum(pca.explained_variance_ratio_))\n",
    "ax.set_title(\"Investigating the Variance Explainability of Features\")\n",
    "ax.set_xlabel(\"Number of Components\")\n",
    "ax.set_ylabel(\"Explained Variance\")\n",
    "\n",
    "plt.show()\n"
   ]
  },
  {
   "cell_type": "code",
   "execution_count": 35,
   "metadata": {},
   "outputs": [
    {
     "name": "stdout",
     "output_type": "stream",
     "text": [
      "{0: {'cum_variance': 0.46013623355931693,\n",
      "     'explained_variance': 0.46013623355931693,\n",
      "     'top 3 most important features': ['elo1_pre', 'qbelo1_pre', 'elo2_pre']},\n",
      " 1: {'cum_variance': 0.8485139465461092,\n",
      "     'explained_variance': 0.3883777129867923,\n",
      "     'top 3 most important features': ['elo1_pre',\n",
      "                                       'qbelo1_pre',\n",
      "                                       'qb1_value_pre']}}\n"
     ]
    }
   ],
   "source": [
    "import pprint\n",
    "n_components=2\n",
    "ftrs = ['playoff', 'elo1_pre', 'elo2_pre', 'elo_prob1', 'elo_prob2', 'qbelo1_pre',\n",
    "        'qbelo2_pre', 'qb1_value_pre', 'qb2_value_pre', 'qb1_adj',\n",
    "        'qb2_adj', 'qbelo_prob1', 'qbelo_prob2', 'quality', 'Temperature',\n",
    "        'DewPoint', 'Humidity', 'Precipitation', 'WindSpeed', 'Pressure']\n",
    "pca_dict = {}\n",
    "cum_sums = np.cumsum(pca.explained_variance_ratio_)\n",
    "for i in range(n_components):\n",
    "  ftr_sorted = np.argsort(pca.components_[i, :])\n",
    "  var_ratio = pca.explained_variance_ratio_[i]\n",
    "  pca_dict[i] = {'top 3 most important features': \n",
    "                [ftrs[ftr_sorted[i]] for i in range(3)], \n",
    "                'explained_variance': var_ratio, \n",
    "                'cum_variance': cum_sums[i]}\n",
    "\n",
    "pprint.pprint(pca_dict)\n"
   ]
  },
  {
   "cell_type": "code",
   "execution_count": 25,
   "metadata": {},
   "outputs": [
    {
     "name": "stdout",
     "output_type": "stream",
     "text": [
      "[ 1.00000000e+00  1.62470645e+03  1.58451759e+03  6.46917202e-01\n",
      "  3.53082798e-01  1.60051052e+03  1.57766687e+03  2.21466954e+02\n",
      "  1.50471216e+02 -8.05476852e+00  5.35380282e+00  6.13736601e-01\n",
      "  3.86263399e-01  8.60000000e+01  6.62000000e+01  5.36000000e+01\n",
      "  6.40000000e+01  0.00000000e+00  1.49800000e+01  3.00910000e+01]\n"
     ]
    }
   ],
   "source": [
    "print(data_obj.X[14])"
   ]
  },
  {
   "cell_type": "code",
   "execution_count": null,
   "metadata": {},
   "outputs": [],
   "source": []
  }
 ],
 "metadata": {
  "kernelspec": {
   "display_name": "Python 3.10.6 64-bit",
   "language": "python",
   "name": "python3"
  },
  "language_info": {
   "codemirror_mode": {
    "name": "ipython",
    "version": 3
   },
   "file_extension": ".py",
   "mimetype": "text/x-python",
   "name": "python",
   "nbconvert_exporter": "python",
   "pygments_lexer": "ipython3",
   "version": "3.10.6"
  },
  "vscode": {
   "interpreter": {
    "hash": "b0fa6594d8f4cbf19f97940f81e996739fb7646882a419484c72d19e05852a7e"
   }
  }
 },
 "nbformat": 4,
 "nbformat_minor": 2
}
