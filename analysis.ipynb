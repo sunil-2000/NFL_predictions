{
 "cells": [
  {
   "cell_type": "markdown",
   "metadata": {},
   "source": [
    "### Classification Problem:\n",
    "  * Given stats / weather data we can get before a game happens, predict whether home team will win or not\n"
   ]
  },
  {
   "cell_type": "code",
   "execution_count": 7,
   "metadata": {},
   "outputs": [],
   "source": [
    "from feature_eng import Data\n",
    "data_obj = Data('./weather_game_elo.csv')"
   ]
  },
  {
   "cell_type": "code",
   "execution_count": 8,
   "metadata": {},
   "outputs": [],
   "source": [
    "# logistic regression\n",
    "lr = data_obj.lr()"
   ]
  },
  {
   "cell_type": "code",
   "execution_count": 9,
   "metadata": {},
   "outputs": [
    {
     "name": "stdout",
     "output_type": "stream",
     "text": [
      "accuracy: 0.679890560875513\n"
     ]
    },
    {
     "data": {
      "text/plain": [
       "0.679890560875513"
      ]
     },
     "execution_count": 9,
     "metadata": {},
     "output_type": "execute_result"
    }
   ],
   "source": [
    "data_obj.lr_evaluate_test(lr)"
   ]
  },
  {
   "cell_type": "code",
   "execution_count": 10,
   "metadata": {},
   "outputs": [
    {
     "name": "stdout",
     "output_type": "stream",
     "text": [
      "2018-10-28: CAR vs. BAL\n",
      "lr model predicts CAR will win\n",
      "with probability 0.5772063800456213\n",
      "actual game outcome: CAR won\n",
      "actual score: CAR: 36.0 BAL: 21.0\n"
     ]
    }
   ],
   "source": [
    "data_obj.lr_single_prediction(lr)"
   ]
  },
  {
   "cell_type": "code",
   "execution_count": 11,
   "metadata": {},
   "outputs": [
    {
     "data": {
      "text/plain": [
       "2921"
      ]
     },
     "execution_count": 11,
     "metadata": {},
     "output_type": "execute_result"
    }
   ],
   "source": [
    "len(data_obj.home_teams)"
   ]
  },
  {
   "cell_type": "code",
   "execution_count": 12,
   "metadata": {},
   "outputs": [],
   "source": [
    "data_obj_playoff_enc = Data('./weather_game_elo_playoff_encoded.csv', playoff_encoded=True)"
   ]
  },
  {
   "cell_type": "code",
   "execution_count": 13,
   "metadata": {},
   "outputs": [
    {
     "name": "stdout",
     "output_type": "stream",
     "text": [
      "accuracy: 0.6662106703146374\n"
     ]
    },
    {
     "data": {
      "text/plain": [
       "0.6662106703146374"
      ]
     },
     "execution_count": 13,
     "metadata": {},
     "output_type": "execute_result"
    }
   ],
   "source": [
    "lr_encoded = data_obj_playoff_enc.lr()\n",
    "data_obj_playoff_enc.lr_evaluate_test(lr_encoded)"
   ]
  },
  {
   "cell_type": "code",
   "execution_count": null,
   "metadata": {},
   "outputs": [],
   "source": [
    "# training accuracy for the encoded logistic regression\n",
    "data_obj_playoff_enc.evaluate_train(lr_encoded)"
   ]
  }
 ],
 "metadata": {
  "kernelspec": {
   "display_name": "Python 3",
   "language": "python",
   "name": "python3"
  },
  "language_info": {
   "codemirror_mode": {
    "name": "ipython",
    "version": 3
   },
   "file_extension": ".py",
   "mimetype": "text/x-python",
   "name": "python",
   "nbconvert_exporter": "python",
   "pygments_lexer": "ipython3",
   "version": "3.8.5"
  },
  "vscode": {
   "interpreter": {
    "hash": "19b71fa5802f5f6332f61099b246e673a5da3847c04355e9e361762cd7c72ab4"
   }
  }
 },
 "nbformat": 4,
 "nbformat_minor": 2
}
