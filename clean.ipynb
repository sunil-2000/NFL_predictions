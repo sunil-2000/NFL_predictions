{
 "cells": [
  {
   "cell_type": "code",
   "execution_count": 179,
   "metadata": {},
   "outputs": [],
   "source": [
    "import numpy as np\n",
    "import pandas as pd\n",
    "import datetime"
   ]
  },
  {
   "cell_type": "markdown",
   "metadata": {},
   "source": [
    "### Cleaning"
   ]
  },
  {
   "cell_type": "code",
   "execution_count": 180,
   "metadata": {},
   "outputs": [],
   "source": [
    "elo = pd.read_csv('./data/nfl_elo_csv.csv')\n",
    "games = pd.read_csv('./data/all_games.csv')"
   ]
  },
  {
   "cell_type": "markdown",
   "metadata": {},
   "source": [
    "#### simple cleaning tasks\n",
    "  * remove old games from elo csv (only have games from 2009 onward in all_games.csv) \n",
    "  * drop na values from games (e.g., na for score field)"
   ]
  },
  {
   "cell_type": "code",
   "execution_count": 181,
   "metadata": {},
   "outputs": [
    {
     "data": {
      "text/html": [
       "<div>\n",
       "<style scoped>\n",
       "    .dataframe tbody tr th:only-of-type {\n",
       "        vertical-align: middle;\n",
       "    }\n",
       "\n",
       "    .dataframe tbody tr th {\n",
       "        vertical-align: top;\n",
       "    }\n",
       "\n",
       "    .dataframe thead th {\n",
       "        text-align: right;\n",
       "    }\n",
       "</style>\n",
       "<table border=\"1\" class=\"dataframe\">\n",
       "  <thead>\n",
       "    <tr style=\"text-align: right;\">\n",
       "      <th></th>\n",
       "      <th>date</th>\n",
       "      <th>season</th>\n",
       "      <th>neutral</th>\n",
       "      <th>playoff</th>\n",
       "      <th>home_team</th>\n",
       "      <th>away_team</th>\n",
       "      <th>elo1_pre</th>\n",
       "      <th>elo2_pre</th>\n",
       "      <th>elo_prob1</th>\n",
       "      <th>elo_prob2</th>\n",
       "      <th>elo1_post</th>\n",
       "      <th>elo2_post</th>\n",
       "      <th>score1</th>\n",
       "      <th>score2</th>\n",
       "    </tr>\n",
       "  </thead>\n",
       "  <tbody>\n",
       "    <tr>\n",
       "      <th>13593</th>\n",
       "      <td>2009-01-03</td>\n",
       "      <td>2008</td>\n",
       "      <td>0</td>\n",
       "      <td>w</td>\n",
       "      <td>lac</td>\n",
       "      <td>ind</td>\n",
       "      <td>1593.456</td>\n",
       "      <td>1691.593</td>\n",
       "      <td>0.452456</td>\n",
       "      <td>0.547544</td>\n",
       "      <td>1615.091</td>\n",
       "      <td>1669.958</td>\n",
       "      <td>23</td>\n",
       "      <td>17</td>\n",
       "    </tr>\n",
       "    <tr>\n",
       "      <th>13594</th>\n",
       "      <td>2009-01-03</td>\n",
       "      <td>2008</td>\n",
       "      <td>0</td>\n",
       "      <td>w</td>\n",
       "      <td>ari</td>\n",
       "      <td>atl</td>\n",
       "      <td>1493.926</td>\n",
       "      <td>1558.510</td>\n",
       "      <td>0.500599</td>\n",
       "      <td>0.499401</td>\n",
       "      <td>1513.358</td>\n",
       "      <td>1539.078</td>\n",
       "      <td>30</td>\n",
       "      <td>24</td>\n",
       "    </tr>\n",
       "    <tr>\n",
       "      <th>13595</th>\n",
       "      <td>2009-01-04</td>\n",
       "      <td>2008</td>\n",
       "      <td>0</td>\n",
       "      <td>w</td>\n",
       "      <td>mia</td>\n",
       "      <td>bal</td>\n",
       "      <td>1545.051</td>\n",
       "      <td>1644.229</td>\n",
       "      <td>0.450972</td>\n",
       "      <td>0.549028</td>\n",
       "      <td>1518.900</td>\n",
       "      <td>1670.380</td>\n",
       "      <td>9</td>\n",
       "      <td>27</td>\n",
       "    </tr>\n",
       "    <tr>\n",
       "      <th>13596</th>\n",
       "      <td>2009-01-04</td>\n",
       "      <td>2008</td>\n",
       "      <td>0</td>\n",
       "      <td>w</td>\n",
       "      <td>min</td>\n",
       "      <td>phi</td>\n",
       "      <td>1583.539</td>\n",
       "      <td>1616.177</td>\n",
       "      <td>0.546438</td>\n",
       "      <td>0.453562</td>\n",
       "      <td>1555.089</td>\n",
       "      <td>1644.627</td>\n",
       "      <td>14</td>\n",
       "      <td>26</td>\n",
       "    </tr>\n",
       "    <tr>\n",
       "      <th>13597</th>\n",
       "      <td>2009-01-10</td>\n",
       "      <td>2008</td>\n",
       "      <td>0</td>\n",
       "      <td>d</td>\n",
       "      <td>car</td>\n",
       "      <td>ari</td>\n",
       "      <td>1586.798</td>\n",
       "      <td>1513.358</td>\n",
       "      <td>0.689316</td>\n",
       "      <td>0.310684</td>\n",
       "      <td>1542.007</td>\n",
       "      <td>1558.150</td>\n",
       "      <td>13</td>\n",
       "      <td>33</td>\n",
       "    </tr>\n",
       "  </tbody>\n",
       "</table>\n",
       "</div>"
      ],
      "text/plain": [
       "            date  season  neutral playoff home_team away_team  elo1_pre  \\\n",
       "13593 2009-01-03    2008        0       w       lac       ind  1593.456   \n",
       "13594 2009-01-03    2008        0       w       ari       atl  1493.926   \n",
       "13595 2009-01-04    2008        0       w       mia       bal  1545.051   \n",
       "13596 2009-01-04    2008        0       w       min       phi  1583.539   \n",
       "13597 2009-01-10    2008        0       d       car       ari  1586.798   \n",
       "\n",
       "       elo2_pre  elo_prob1  elo_prob2  elo1_post  elo2_post  score1  score2  \n",
       "13593  1691.593   0.452456   0.547544   1615.091   1669.958      23      17  \n",
       "13594  1558.510   0.500599   0.499401   1513.358   1539.078      30      24  \n",
       "13595  1644.229   0.450972   0.549028   1518.900   1670.380       9      27  \n",
       "13596  1616.177   0.546438   0.453562   1555.089   1644.627      14      26  \n",
       "13597  1513.358   0.689316   0.310684   1542.007   1558.150      13      33  "
      ]
     },
     "execution_count": 181,
     "metadata": {},
     "output_type": "execute_result"
    }
   ],
   "source": [
    "# only keep data from 2009 onward in ELO (because thats all game data we have)\n",
    "start = datetime.datetime(2009, 1, 1) \n",
    "elo['date'] = pd.to_datetime(elo['date'])\n",
    "elo = elo.rename(columns={\"team1\": \"home_team\", \"team2\": \"away_team\"})\n",
    "\n",
    "\n",
    "elo = elo[elo['date'] > start]\n",
    "elo.head()"
   ]
  },
  {
   "cell_type": "code",
   "execution_count": 182,
   "metadata": {},
   "outputs": [
    {
     "data": {
      "text/html": [
       "<div>\n",
       "<style scoped>\n",
       "    .dataframe tbody tr th:only-of-type {\n",
       "        vertical-align: middle;\n",
       "    }\n",
       "\n",
       "    .dataframe tbody tr th {\n",
       "        vertical-align: top;\n",
       "    }\n",
       "\n",
       "    .dataframe thead th {\n",
       "        text-align: right;\n",
       "    }\n",
       "</style>\n",
       "<table border=\"1\" class=\"dataframe\">\n",
       "  <thead>\n",
       "    <tr style=\"text-align: right;\">\n",
       "      <th></th>\n",
       "      <th>type</th>\n",
       "      <th>game_id</th>\n",
       "      <th>home_team</th>\n",
       "      <th>away_team</th>\n",
       "      <th>week</th>\n",
       "      <th>season</th>\n",
       "      <th>state_of_game</th>\n",
       "      <th>game_url</th>\n",
       "      <th>home_score</th>\n",
       "      <th>away_score</th>\n",
       "      <th>Unnamed: 0</th>\n",
       "    </tr>\n",
       "  </thead>\n",
       "  <tbody>\n",
       "    <tr>\n",
       "      <th>0</th>\n",
       "      <td>post</td>\n",
       "      <td>2017010700</td>\n",
       "      <td>HOU</td>\n",
       "      <td>OAK</td>\n",
       "      <td>18</td>\n",
       "      <td>2016</td>\n",
       "      <td>POST</td>\n",
       "      <td>http://www.nfl.com/liveupdate/game-center/2017...</td>\n",
       "      <td>27.0</td>\n",
       "      <td>14.0</td>\n",
       "      <td>NaN</td>\n",
       "    </tr>\n",
       "    <tr>\n",
       "      <th>1</th>\n",
       "      <td>post</td>\n",
       "      <td>2017010701</td>\n",
       "      <td>SEA</td>\n",
       "      <td>DET</td>\n",
       "      <td>18</td>\n",
       "      <td>2016</td>\n",
       "      <td>POST</td>\n",
       "      <td>http://www.nfl.com/liveupdate/game-center/2017...</td>\n",
       "      <td>26.0</td>\n",
       "      <td>6.0</td>\n",
       "      <td>NaN</td>\n",
       "    </tr>\n",
       "    <tr>\n",
       "      <th>2</th>\n",
       "      <td>post</td>\n",
       "      <td>2017010800</td>\n",
       "      <td>PIT</td>\n",
       "      <td>MIA</td>\n",
       "      <td>18</td>\n",
       "      <td>2016</td>\n",
       "      <td>POST</td>\n",
       "      <td>http://www.nfl.com/liveupdate/game-center/2017...</td>\n",
       "      <td>30.0</td>\n",
       "      <td>12.0</td>\n",
       "      <td>NaN</td>\n",
       "    </tr>\n",
       "    <tr>\n",
       "      <th>3</th>\n",
       "      <td>post</td>\n",
       "      <td>2017010801</td>\n",
       "      <td>GB</td>\n",
       "      <td>NYG</td>\n",
       "      <td>18</td>\n",
       "      <td>2016</td>\n",
       "      <td>POST</td>\n",
       "      <td>http://www.nfl.com/liveupdate/game-center/2017...</td>\n",
       "      <td>38.0</td>\n",
       "      <td>13.0</td>\n",
       "      <td>NaN</td>\n",
       "    </tr>\n",
       "    <tr>\n",
       "      <th>4</th>\n",
       "      <td>post</td>\n",
       "      <td>2017011400</td>\n",
       "      <td>ATL</td>\n",
       "      <td>SEA</td>\n",
       "      <td>18</td>\n",
       "      <td>2016</td>\n",
       "      <td>POST</td>\n",
       "      <td>http://www.nfl.com/liveupdate/game-center/2017...</td>\n",
       "      <td>36.0</td>\n",
       "      <td>20.0</td>\n",
       "      <td>NaN</td>\n",
       "    </tr>\n",
       "  </tbody>\n",
       "</table>\n",
       "</div>"
      ],
      "text/plain": [
       "   type     game_id home_team away_team  week  season state_of_game  \\\n",
       "0  post  2017010700       HOU       OAK    18    2016          POST   \n",
       "1  post  2017010701       SEA       DET    18    2016          POST   \n",
       "2  post  2017010800       PIT       MIA    18    2016          POST   \n",
       "3  post  2017010801        GB       NYG    18    2016          POST   \n",
       "4  post  2017011400       ATL       SEA    18    2016          POST   \n",
       "\n",
       "                                            game_url  home_score  away_score  \\\n",
       "0  http://www.nfl.com/liveupdate/game-center/2017...        27.0        14.0   \n",
       "1  http://www.nfl.com/liveupdate/game-center/2017...        26.0         6.0   \n",
       "2  http://www.nfl.com/liveupdate/game-center/2017...        30.0        12.0   \n",
       "3  http://www.nfl.com/liveupdate/game-center/2017...        38.0        13.0   \n",
       "4  http://www.nfl.com/liveupdate/game-center/2017...        36.0        20.0   \n",
       "\n",
       "   Unnamed: 0  \n",
       "0         NaN  \n",
       "1         NaN  \n",
       "2         NaN  \n",
       "3         NaN  \n",
       "4         NaN  "
      ]
     },
     "execution_count": 182,
     "metadata": {},
     "output_type": "execute_result"
    }
   ],
   "source": [
    "# drop any nas in games\n",
    "games = games[(games['home_score'].notna()) & (games['away_score'].notna())]\n",
    "games.head()"
   ]
  },
  {
   "cell_type": "markdown",
   "metadata": {},
   "source": [
    "### Ensure team abbreviations have 1:1 mapping across datasets"
   ]
  },
  {
   "cell_type": "code",
   "execution_count": 183,
   "metadata": {},
   "outputs": [
    {
     "name": "stdout",
     "output_type": "stream",
     "text": [
      "whats in elo and not in games: {'WSH', 'LAR'}\n",
      "\n",
      "whats in games and not elo: {'WAS', 'LA', 'RIC', 'JAC', 'STL', 'APR', 'NPR', 'SD', 'CRT', 'SAN'}\n",
      "\n"
     ]
    }
   ],
   "source": [
    "# need to ensure team mappings are 1:1 across datasets\n",
    "elo_teams = elo['home_team'].unique()\n",
    "elo_teams = [w.upper() for w in elo_teams]\n",
    "games_teams = games['home_team'].unique()\n",
    "\n",
    "# find differences \n",
    "elo_diff = set(elo_teams).difference(set(games_teams)) # whats in elo and not in games\n",
    "game_diff = set(games_teams).difference(set(elo_teams)) # whats in games and not elo\n",
    "print(f'whats in elo and not in games: {elo_diff}\\n')\n",
    "print(f'whats in games and not elo: {game_diff}\\n')\n",
    "\n"
   ]
  },
  {
   "cell_type": "markdown",
   "metadata": {},
   "source": [
    "#### Mappings that need to be fixed\n",
    " * SD --> chargers (games)\n",
    " * JAC --> jaguars (games)\n",
    " * LA --> rams (games)\n",
    " * WAS --> commanders (games)\n",
    " * STL --> rams (games) \n",
    "\n",
    " * map rams to --> LAR\n",
    " * map commanders to --> WSH\n",
    " * map chargers to --> LAC\n",
    "\n",
    " * drop APR, CRT, NPR, RIC, SAN (games)\n",
    "\n",
    " * ELO dataset is clean\n",
    " * LAR --> rams (elo)\n",
    " * WSH --> commanders (elo)"
   ]
  },
  {
   "cell_type": "code",
   "execution_count": 184,
   "metadata": {},
   "outputs": [],
   "source": [
    "nonsense_teams = ['APR', 'CRT', 'NPR', 'RIC', 'SAN', 'CRT']\n",
    "games = games[(~games['home_team'].isin(nonsense_teams)) & (~games['away_team'].isin(nonsense_teams))]\n",
    "# convert elo abbreviations to upper\n",
    "elo['home_team'] = elo['home_team'].apply(str.upper)\n",
    "elo['away_team'] = elo['away_team'].apply(str.upper)\n"
   ]
  },
  {
   "cell_type": "code",
   "execution_count": 185,
   "metadata": {},
   "outputs": [
    {
     "name": "stdout",
     "output_type": "stream",
     "text": [
      "whats in elo and not in games: set()\n",
      "\n",
      "whats in games and not elo: set()\n",
      "\n"
     ]
    }
   ],
   "source": [
    "# correct mapping abbreviations\n",
    "def correct_mapping(name):\n",
    "    if name == 'LA'  or name == 'STL': # rams\n",
    "        return 'LAR'\n",
    "    elif name == 'WAS':\n",
    "        return 'WSH'\n",
    "    elif name == 'JAC':\n",
    "        return 'JAX'\n",
    "    elif name == 'SD':\n",
    "        return 'LAC'\n",
    "    else:\n",
    "        return name\n",
    "\n",
    "games['home_team'] = games['home_team'].apply(correct_mapping)\n",
    "games['away_team'] = games['away_team'].apply(correct_mapping)\n",
    "\n",
    "# sanity check\n",
    "elo_teams = elo['home_team'].unique()\n",
    "games_teams = games['home_team'].unique()\n",
    "elo_diff = set(elo_teams).difference(set(games_teams)) # whats in elo and not in games\n",
    "game_diff = set(games_teams).difference(set(elo_teams)) # whats in games and not elo\n",
    "print(f'whats in elo and not in games: {elo_diff}\\n')\n",
    "print(f'whats in games and not elo: {game_diff}\\n')"
   ]
  },
  {
   "cell_type": "markdown",
   "metadata": {},
   "source": [
    "### Join ELO and games datasets using dates and team abbreviations"
   ]
  },
  {
   "cell_type": "code",
   "execution_count": 186,
   "metadata": {},
   "outputs": [],
   "source": [
    "# create date column in games dataset\n",
    "# parse date from url\n",
    "def date_from_url(url):\n",
    "    \"\"\"\n",
    "    each game queried from sports-center api\n",
    "    date found at ...center/<date>/... portion of url\n",
    "    date in form of YYYYMMDDXX where XX is not needed\n",
    "    date-form has len 8\n",
    "    \"\"\"\n",
    "    i = url.index('center') + len('center') + 1 # +1 because of /\n",
    "    date = url[i:i+8]\n",
    "    return date\n",
    "\n",
    "games['date'] = games['game_url'].apply(date_from_url)\n",
    "games['date'] = pd.to_datetime(games['date'])"
   ]
  },
  {
   "cell_type": "code",
   "execution_count": 188,
   "metadata": {},
   "outputs": [],
   "source": [
    "complete_df = pd.merge(games, elo, left_on=['date','home_team'], right_on = ['date','home_team'])"
   ]
  },
  {
   "cell_type": "code",
   "execution_count": 189,
   "metadata": {},
   "outputs": [],
   "source": [
    "complete_df = complete_df.drop('Unnamed: 0', axis=1)"
   ]
  },
  {
   "cell_type": "code",
   "execution_count": 191,
   "metadata": {},
   "outputs": [
    {
     "data": {
      "text/plain": [
       "type                0\n",
       "game_id             0\n",
       "home_team           0\n",
       "away_team_x         0\n",
       "week                0\n",
       "season_x            0\n",
       "state_of_game       0\n",
       "game_url            0\n",
       "home_score          0\n",
       "away_score          0\n",
       "date                0\n",
       "season_y            0\n",
       "neutral             0\n",
       "playoff          2293\n",
       "away_team_y         0\n",
       "elo1_pre            0\n",
       "elo2_pre            0\n",
       "elo_prob1           0\n",
       "elo_prob2           0\n",
       "elo1_post           0\n",
       "elo2_post           0\n",
       "score1              0\n",
       "score2              0\n",
       "dtype: int64"
      ]
     },
     "execution_count": 191,
     "metadata": {},
     "output_type": "execute_result"
    }
   ],
   "source": [
    "# Y refers to elo dataset, X refers to game dataset (y, x) appended if identical column names\n",
    "# validate no na values except for playoffs column\n",
    "complete_df.isna().sum()"
   ]
  },
  {
   "cell_type": "code",
   "execution_count": null,
   "metadata": {},
   "outputs": [],
   "source": [
    "complete_df.to_csv('elo_games_full.csv')"
   ]
  },
  {
   "cell_type": "code",
   "execution_count": null,
   "metadata": {},
   "outputs": [],
   "source": []
  }
 ],
 "metadata": {
  "kernelspec": {
   "display_name": "Python 3.8.15",
   "language": "python",
   "name": "python3"
  },
  "language_info": {
   "codemirror_mode": {
    "name": "ipython",
    "version": 3
   },
   "file_extension": ".py",
   "mimetype": "text/x-python",
   "name": "python",
   "nbconvert_exporter": "python",
   "pygments_lexer": "ipython3",
   "version": "3.8.15"
  },
  "orig_nbformat": 4,
  "vscode": {
   "interpreter": {
    "hash": "9ddaccd58a1b0d6657889614b36743370964790456b53c90cf19b20e95c1cd26"
   }
  }
 },
 "nbformat": 4,
 "nbformat_minor": 2
}
